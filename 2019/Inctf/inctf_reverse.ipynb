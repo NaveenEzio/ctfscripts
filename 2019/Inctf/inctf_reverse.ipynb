{
 "cells": [
  {
   "cell_type": "code",
   "execution_count": 5,
   "metadata": {},
   "outputs": [],
   "source": [
    "cipher='KVM\\\\N~KVLFXFXeCROeIELDKUFy'"
   ]
  },
  {
   "cell_type": "code",
   "execution_count": 6,
   "metadata": {},
   "outputs": [
    {
     "data": {
      "text/plain": [
       "'KVM\\\\N~KVLFXFXeCROeIELDKUFy'"
      ]
     },
     "execution_count": 6,
     "metadata": {},
     "output_type": "execute_result"
    }
   ],
   "source": [
    "cipher"
   ]
  },
  {
   "cell_type": "code",
   "execution_count": 42,
   "metadata": {},
   "outputs": [
    {
     "ename": "SyntaxError",
     "evalue": "invalid syntax (<ipython-input-42-40fb656a56b9>, line 1)",
     "output_type": "error",
     "traceback": [
      "\u001b[1;36m  File \u001b[1;32m\"<ipython-input-42-40fb656a56b9>\"\u001b[1;36m, line \u001b[1;32m1\u001b[0m\n\u001b[1;33m    for ( i = 0; i < length(user_input); ++i )\u001b[0m\n\u001b[1;37m            ^\u001b[0m\n\u001b[1;31mSyntaxError\u001b[0m\u001b[1;31m:\u001b[0m invalid syntax\n"
     ]
    }
   ],
   "source": [
    "# for ( i = 0; i < length(user_input); ++i )\n",
    " # {\n",
    " #   for ( index_second = 0; user_input[i] != *((_BYTE *)&v13 + index_second); ++index_second )\n",
    "  #    ;\n",
    "  #  *(&user_input_xor_result + i) = index_second ^ 69;\n",
    " # }"
   ]
  },
  {
   "cell_type": "code",
   "execution_count": 3,
   "metadata": {},
   "outputs": [],
   "source": [
    "def chec_string(user_input):\n",
    "    char_set='012345abcdefghijklmnopqrstuvwxyz_ABCDEFGHIJKLMNOPQRSTUVWXYZ{}'\n",
    "    fl=''\n",
    "    for j in range(len(user_input)):\n",
    "        index=0\n",
    "        for i in range(len(char_set)):\n",
    "            if user_input[j]!=char_set[i]:\n",
    "                index+=1\n",
    "            else:\n",
    "                break\n",
    "        index=index^69\n",
    "        fl+=(chr(index))\n",
    "    return fl   "
   ]
  },
  {
   "cell_type": "code",
   "execution_count": 6,
   "metadata": {},
   "outputs": [
    {
     "data": {
      "text/plain": [
       "'KVM\\\\N~'"
      ]
     },
     "execution_count": 6,
     "metadata": {},
     "output_type": "execute_result"
    }
   ],
   "source": [
    "chec_string('inctf{')"
   ]
  },
  {
   "cell_type": "code",
   "execution_count": 7,
   "metadata": {},
   "outputs": [],
   "source": [
    "cipher='KVM\\\\N~KVLFXFXeCROeIELDKUFy'"
   ]
  },
  {
   "cell_type": "code",
   "execution_count": 8,
   "metadata": {},
   "outputs": [],
   "source": [
    "cipher='KVM\\\\N~KVLFXFXeCROeIELDKUFy'\n",
    "fl=''\n",
    "first_flag='inctf{ind3x3x_are_g0d1ik3'\n",
    "\n",
    "for i in range(255):\n",
    "    temp=chec_string(first_flag+chr(i))\n",
    "    if temp==cipher:\n",
    "        fl+=first_flag+chr(i)"
   ]
  },
  {
   "cell_type": "code",
   "execution_count": 117,
   "metadata": {},
   "outputs": [
    {
     "data": {
      "text/plain": [
       "'inctf{ind3x3x_are_g0d1ik3}'"
      ]
     },
     "execution_count": 117,
     "metadata": {},
     "output_type": "execute_result"
    }
   ],
   "source": [
    "fl"
   ]
  },
  {
   "cell_type": "code",
   "execution_count": 17,
   "metadata": {},
   "outputs": [
    {
     "name": "stdout",
     "output_type": "stream",
     "text": [
      "inctf{ind3x3x_are_g0d1ik3}\n"
     ]
    }
   ],
   "source": [
    "#First Approach\n",
    "cipher='KVM\\\\N~KVLFXFXeCROeIELDKUFy'\n",
    "\n",
    "fl=''\n",
    "\n",
    "for cipher in cipher:\n",
    "    for i in range(255):\n",
    "        temp=chec_string(chr(i))\n",
    "        if temp==cipher:\n",
    "            fl+=chr(i)\n",
    "\n",
    "print(fl)"
   ]
  },
  {
   "cell_type": "code",
   "execution_count": 1,
   "metadata": {},
   "outputs": [],
   "source": [
    "cipher_='KVM\\\\N~'\n",
    "\n",
    "first_flag='inctf{'"
   ]
  },
  {
   "cell_type": "code",
   "execution_count": 22,
   "metadata": {},
   "outputs": [
    {
     "name": "stdout",
     "output_type": "stream",
     "text": [
      "inctf{ind3x3x_are_g0d1ik3}\n"
     ]
    }
   ],
   "source": [
    "cipher='KVM\\\\N~KVLFXFXeCROeIELDKUFy'\n",
    "\n",
    "cipher_='KVM\\\\N~K'\n",
    "\n",
    "first_flag='inctf{'\n",
    "#Second Approach\n",
    "\n",
    "while(1):\n",
    "    for i in range(255):\n",
    "        temp_length=len(cipher_)\n",
    "        temp=chec_string(first_flag+chr(i))\n",
    "        if temp==cipher_:\n",
    "            first_flag+=chr(i)\n",
    "            try:\n",
    "                 cipher_+=cipher[temp_length]\n",
    "            except:\n",
    "                pass        \n",
    "    if(len(first_flag)==len(cipher)):\n",
    "        break\n",
    "        \n",
    "print(first_flag)"
   ]
  },
  {
   "cell_type": "code",
   "execution_count": 23,
   "metadata": {},
   "outputs": [
    {
     "name": "stdout",
     "output_type": "stream",
     "text": [
      "inctf{ind3x3x_are_g0d1ik3}\n"
     ]
    }
   ],
   "source": [
    "#Never_Hard_Code :p\n",
    "cipher='KVM\\\\N~KVLFXFXeCROeIELDKUFy'\n",
    "\n",
    "cipher_='K'\n",
    "\n",
    "first_flag=''\n",
    "\n",
    "while(1):\n",
    "    for i in range(255):\n",
    "        temp_length=len(cipher_)\n",
    "        temp=chec_string(first_flag+chr(i))\n",
    "        if temp==cipher_:\n",
    "            first_flag+=chr(i)\n",
    "            try:\n",
    "                 cipher_+=cipher[temp_length]\n",
    "            except:\n",
    "                pass        \n",
    "    if(len(first_flag)==len(cipher)):\n",
    "        break\n",
    "        \n",
    "print(first_flag)"
   ]
  },
  {
   "cell_type": "code",
   "execution_count": 14,
   "metadata": {},
   "outputs": [],
   "source": [
    "#Android_reverse\n",
    "def check_string(string):\n",
    "    cipher=[]\n",
    "    for charAt in string:\n",
    "        sb=[]\n",
    "        if (charAt < 'a' or charAt > 'm'):\n",
    "            if (charAt < 'n' or charAt > 'z'):\n",
    "                if (charAt < 'A' or charAt > 'M'):\n",
    "                    if (charAt >= 'N'):\n",
    "                        if (charAt > 'Z'):\n",
    "                            #print(\"I am being exected\")\n",
    "                            sb.append(charAt)       \n",
    "            i = ord(charAt) - 13\n",
    "            charAt = chr(i)\n",
    "            sb.append(charAt)\n",
    "        i = ord(charAt) + 13\n",
    "        charAt = chr(i)\n",
    "        sb.append(charAt)\n",
    "        cipher.append(sb[0])\n",
    "    return \"\".join(cipher)"
   ]
  },
  {
   "cell_type": "code",
   "execution_count": 15,
   "metadata": {},
   "outputs": [
    {
     "data": {
      "text/plain": [
       "'vapgs{antngb_vf_cnva}'"
      ]
     },
     "execution_count": 15,
     "metadata": {},
     "output_type": "execute_result"
    }
   ],
   "source": [
    "check_string(\"inctf{nagato_is_pain}\")"
   ]
  },
  {
   "cell_type": "code",
   "execution_count": 16,
   "metadata": {},
   "outputs": [
    {
     "name": "stdout",
     "output_type": "stream",
     "text": [
      "inctf{nagato_is_pain}\n"
     ]
    }
   ],
   "source": [
    "cipher='vapgs{antngb_vf_cnva}'\n",
    "fl=''\n",
    "while(1):\n",
    "    for j in cipher:\n",
    "        for i in range(30,255):\n",
    "            temp=check_string(chr(i))\n",
    "            if temp == j:\n",
    "                fl+=(chr(i))\n",
    "    break\n",
    "\n",
    "print(fl)"
   ]
  },
  {
   "cell_type": "code",
   "execution_count": 32,
   "metadata": {},
   "outputs": [
    {
     "name": "stdout",
     "output_type": "stream",
     "text": [
      "1Character\n",
      "-----------------\n",
      "\u0014\n",
      "\u0015\n",
      "\u001c",
      "\n",
      "\u001d",
      "\n",
      "t\n",
      "2Character\n",
      "-----------------\n",
      "\u0000\n",
      "\u0001\n",
      "\b\n",
      "\t\n",
      " \n",
      "`\n",
      "h\n",
      "3Character\n",
      "-----------------\n",
      "\u0010\n",
      "\u0011\n",
      "\u0018\n",
      "\u0019\n",
      "1\n",
      "4Character\n",
      "-----------------\n",
      "\u0006\n",
      "\u0007\n",
      "\u000e\n",
      "\u000f\n",
      ".\n",
      "g\n",
      "n\n",
      "5Character\n",
      "-----------------\n",
      "\u0006\n",
      "\u0007\n",
      "\u000e\n",
      "\u000f\n",
      ".\n",
      "g\n",
      "n\n",
      "6Character\n",
      "-----------------\n",
      "\u0004\n",
      "\u0005\n",
      "\f",
      "\n",
      "\r\n",
      "$\n",
      ",\n"
     ]
    }
   ],
   "source": [
    "#Reverse-200\n",
    "unwanted=\"%HAu]\\\\UTYXQPia\\'IONGFyxqpedMLEDof!=<545ml9-/&80)(@\"\n",
    "\n",
    "\n",
    "\n",
    "cipher='yi}'[::-1]\n",
    "cipher+='moo'[::-1]\n",
    "\n",
    "\n",
    "index=0\n",
    "for j in cipher:\n",
    "    index+=1\n",
    "    print('%d'%(index)+'Character')\n",
    "    print(\"-----------------\")\n",
    "    for i in range(122):\n",
    "        temp=i&118\n",
    "        temp=temp|105\n",
    "        if chr(temp)==j:\n",
    "            if chr(i) not in unwanted:\n",
    "                print(chr(i))"
   ]
  },
  {
   "cell_type": "code",
   "execution_count": 28,
   "metadata": {},
   "outputs": [
    {
     "name": "stdout",
     "output_type": "stream",
     "text": [
      "inctf{E4$Y_0N3_R1GHT!!?!}"
     ]
    }
   ],
   "source": [
    "#python Reversing 300\n",
    "import string\n",
    "import random\n",
    "from itertools import chain, product\n",
    "\n",
    "def push(x):\n",
    "    \n",
    "\tupper = string.ascii_uppercase\n",
    "\tlower = string.ascii_lowercase\n",
    "\tdigits = string.digits\n",
    "\tn = []\n",
    "\ta = \"\"\n",
    "\tfor i in x:\n",
    "\t\tif i.isupper() is True:\n",
    "\t\t\tn.append(upper[(upper.index(i)+3)%26])\n",
    "\t\telif i.islower() is True:\n",
    "\t\t\tn.append(lower[(lower.index(i)+3)%26])\n",
    "\t\telif i.isdigit() is True:\n",
    "\t\t\tn.append(digits[(digits.index(i)+3)%10])\n",
    "\t\n",
    "\tfor j in n:\n",
    "\t\ta+=j\n",
    "\n",
    "\treturn a\n",
    "    \n",
    "\n",
    "def sage(x): \n",
    "\tfinal=[] \n",
    "        #print(\"I am in sage function\")\n",
    "\tfor i in range(0,len(x),4):\n",
    "\t\ttemp=x[i:i+4].encode('utf-8').hex()\n",
    "                #print(temp)\n",
    "\t\tk=int(temp,16)\n",
    "\t\tfinal.append(k)\n",
    "\treturn k\n",
    "\n",
    "if __name__==\"__main__\":\n",
    "\t\n",
    "\t#print(\"Please Enter The input\")\t\t\t\t\t\t\t\t\t\t\t\t\t\t\t\t\t \t\t\t\t\t\t\t\t\t\t\t\t\t\t\t\t\t\t\t\t\t\t\t\t\n",
    "\t#x = input().encode('utf-8').hex() #User_Input\n",
    "\tcheck = [959592808, 959852599, 960049253, 926430775, 892811314, 946419251, 929576502, 946419765, 909391664, 925972535, 892613940, 912864564, 12391] #Check_List\n",
    "\tALL = [] #ALL List\n",
    "\t#ALL=sage(push(x))      #Returns a python_list of hex_encoded String\n",
    "\tcount = 0\n",
    "        \n",
    "\t#flag='inctf{E4$Y_0N3_R1GHT!!?!}'\n",
    "        \n",
    "        \n",
    "\tdef bruteforce(charset, maxlength):\n",
    "    \t\treturn (''.join(candidate)\n",
    "        \tfor candidate in chain.from_iterable(product(charset, repeat=i)\n",
    "        \tfor i in range(1, maxlength + 1)))\n",
    "        \n",
    "\tcombinations=(list(bruteforce('0123456789abcdefghijklmnopqrstuvwxyzABCDEFGHIJKLMNOPQRSTUVWXYZ!#$%&()*+,-./:;?@_{}', 2))[27:])\n",
    "\n",
    "\tfor j in check: \n",
    "\t    for i in combinations:\n",
    "\t        temp=i.encode('utf-8').hex()\n",
    "\t        ret=sage(push(temp))\n",
    "\t        #print(ret)\n",
    "\t        if ret==j:\n",
    "\t            print(i,end='')       \n",
    "\n",
    "\n",
    "\n",
    "\t#for i in range(len(ALL)):\n",
    "\t#\tif check[i] == ALL[i]:\n",
    "\t#\t\tcount+=1        #If ALL Check Passes Count Will be 13 "
   ]
  },
  {
   "cell_type": "code",
   "execution_count": null,
   "metadata": {},
   "outputs": [],
   "source": []
  }
 ],
 "metadata": {
  "kernelspec": {
   "display_name": "Python 3",
   "language": "python",
   "name": "python3"
  },
  "language_info": {
   "codemirror_mode": {
    "name": "ipython",
    "version": 3
   },
   "file_extension": ".py",
   "mimetype": "text/x-python",
   "name": "python",
   "nbconvert_exporter": "python",
   "pygments_lexer": "ipython3",
   "version": "3.7.3"
  }
 },
 "nbformat": 4,
 "nbformat_minor": 2
}
