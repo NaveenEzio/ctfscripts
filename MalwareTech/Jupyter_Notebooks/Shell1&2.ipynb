{
 "cells": [
  {
   "cell_type": "code",
   "execution_count": 2,
   "metadata": {},
   "outputs": [
    {
     "name": "stdout",
     "output_type": "stream",
     "text": [
      "FLAG{SHELLCODE-ISNT-JUST-FOR-EXPLOITS}\n"
     ]
    }
   ],
   "source": [
    "def ROL(data, shift, size=8):\n",
    "    shift %= size\n",
    "    remains = data >> (size - shift)\n",
    "    body = (data << shift) - (remains << size )\n",
    "    return (body + remains)\n",
    "\n",
    "\n",
    "a = [  0x32, 0x62, 0x0A, 0x3A, 0xDB, 0x9A, 0x42, 0x2A, 0x62, 0x62, \n",
    "  0x1A, 0x7A, 0x22, 0x2A, 0x69, 0x4A, 0x9A, 0x72, 0xA2, 0x69, \n",
    "  0x52, 0xAA, 0x9A, 0xA2, 0x69, 0x32, 0x7A, 0x92, 0x69, 0x2A, \n",
    "  0xC2, 0x82, 0x62, 0x7A, 0x4A, 0xA2, 0x9A, 0xEB]\n",
    "\n",
    "flag=''\n",
    "\n",
    "for i in range(len(a)):\n",
    "    flag+=chr(ROL(a[i],5))\n",
    "\n",
    "print(flag)"
   ]
  },
  {
   "cell_type": "code",
   "execution_count": 33,
   "metadata": {},
   "outputs": [
    {
     "data": {
      "text/plain": [
       "\"\\x12$(4[#& 57L(v&37:'=n%Ho<X:h,Cs\\x10\\x0e\\x10k\\x10o\""
      ]
     },
     "execution_count": 33,
     "metadata": {},
     "output_type": "execute_result"
    }
   ],
   "source": [
    "a=bytearray([0xC6, 0x45, 0xD8, 0x12, 0xC6, 0x45, 0xD9, 0x24, 0xC6, 0x45, \n",
    "0xDA, 0x28, 0xC6, 0x45, 0xDB, 0x34, 0xC6, 0x45, 0xDC, 0x5B, \n",
    "0xC6, 0x45, 0xDD, 0x23, 0xC6, 0x45, 0xDE, 0x26, 0xC6, 0x45, \n",
    " 0xDF, 0x20, 0xC6, 0x45, 0xE0, 0x35, 0xC6, 0x45, 0xE1, 0x37, \n",
    "  0xC6, 0x45, 0xE2, 0x4C, 0xC6, 0x45, 0xE3, 0x28, 0xC6, 0x45, \n",
    "  0xE4, 0x76, 0xC6, 0x45, 0xE5, 0x26, 0xC6, 0x45, 0xE6, 0x33, \n",
    "  0xC6, 0x45, 0xE7, 0x37, 0xC6, 0x45, 0xE8, 0x3A, 0xC6, 0x45, \n",
    "  0xE9, 0x27, 0xC6, 0x45, 0xEA, 0x3D, 0xC6, 0x45, 0xEB, 0x6E, \n",
    "  0xC6, 0x45, 0xEC, 0x25, 0xC6, 0x45, 0xED, 0x48, 0xC6, 0x45, \n",
    "  0xEE, 0x6F, 0xC6, 0x45, 0xEF, 0x3C, 0xC6, 0x45, 0xF0, 0x58, \n",
    "  0xC6, 0x45, 0xF1, 0x3A, 0xC6, 0x45, 0xF2, 0x68, 0xC6, 0x45, \n",
    "  0xF3, 0x2C, 0xC6, 0x45, 0xF4, 0x43, 0xC6, 0x45, 0xF5, 0x73, \n",
    "  0xC6, 0x45, 0xF6, 0x10, 0xC6, 0x45, 0xF7, 0x0E, 0xC6, 0x45, \n",
    "  0xF8, 0x10, 0xC6, 0x45, 0xF9, 0x6B, 0xC6, 0x45, 0xFA, 0x10, \n",
    "  0xC6, 0x45, 0xFB, 0x6F])\n",
    "\n",
    "flag=''\n",
    "for i in range(3,len(a),4):\n",
    "    flag+=chr(a[i])\n",
    "\n",
    "    \n",
    "    \n",
    "flag            "
   ]
  },
  {
   "cell_type": "code",
   "execution_count": 26,
   "metadata": {},
   "outputs": [
    {
     "data": {
      "text/plain": [
       "144"
      ]
     },
     "execution_count": 26,
     "metadata": {},
     "output_type": "execute_result"
    }
   ],
   "source": [
    "len(a)"
   ]
  },
  {
   "cell_type": "code",
   "execution_count": 5,
   "metadata": {},
   "outputs": [
    {
     "name": "stdout",
     "output_type": "stream",
     "text": [
      "b'MZ\\x90\\x00\\x03\\x00\\x00\\x00\\x04\\x00\\x00\\x00\\xff\\xff\\x00\\x00\\xb8\\x00\\x00\\x00\\x00\\x00\\x00\\x00@\\x00\\x00\\x00\\x00\\x00\\x00\\x00\\x00\\x00\\x00\\x00\\x00\\x00\\x00\\x00\\x00\\x00\\x00\\x00\\x00\\x00\\x00\\x00\\x00\\x00\\x00\\x00\\x00\\x00\\x00\\x00\\x00\\x00\\x00\\x00\\xe0\\x00\\x00\\x00\\x0e\\x1f\\xba\\x0e\\x00\\xb4\\t\\xcd!\\xb8\\x01L\\xcd!This program cannot be run in DOS mode.\\r\\r\\n'\n",
      "78\n",
      "b'This program cannot be run in DOS mode'\n"
     ]
    }
   ],
   "source": [
    "f=open('shellcode1.exe_','rb')\n",
    "print(f.readline())\n",
    "\n",
    "print(f.seek(0x4E))\n",
    "data =  f.read(0x26)\n",
    "\n",
    "\n",
    "print(data)"
   ]
  },
  {
   "cell_type": "code",
   "execution_count": 26,
   "metadata": {},
   "outputs": [
    {
     "name": "stdout",
     "output_type": "stream",
     "text": [
      "34\n",
      "38\n",
      "FLAG{STORE-EVERYTHING-ON-THE-STACK\n",
      "34\n"
     ]
    }
   ],
   "source": [
    "flag=\"\\x12$(4[#& 57L(v&37:'=n%Ho<X:h,Cs\\x10\\x0e\\x10k\\x10\\x00\\x00\\x00\"\n",
    "print(len(flag))\n",
    "key='This program cannot be run in DOS mode'\n",
    "print(len(key))\n",
    "\n",
    "def xor (a,b):\n",
    "    return \"\".join(chr(ord(a)^ord(b)) for a,b in zip(a,b))\n",
    "\n",
    "decrypt =xor(flag,key)\n",
    "print(decrypt)\n",
    "print(len(decrypt))"
   ]
  },
  {
   "cell_type": "code",
   "execution_count": 32,
   "metadata": {},
   "outputs": [
    {
     "name": "stdout",
     "output_type": "stream",
     "text": [
      "\u0012$(4[#& 57L(v&37:'=n%Ho<X:h,Cs\u0010\u000e\u0010k\u0010o\n"
     ]
    }
   ],
   "source": [
    "print(flag)"
   ]
  },
  {
   "cell_type": "code",
   "execution_count": null,
   "metadata": {},
   "outputs": [],
   "source": []
  }
 ],
 "metadata": {
  "kernelspec": {
   "display_name": "Python 3",
   "language": "python",
   "name": "python3"
  },
  "language_info": {
   "codemirror_mode": {
    "name": "ipython",
    "version": 3
   },
   "file_extension": ".py",
   "mimetype": "text/x-python",
   "name": "python",
   "nbconvert_exporter": "python",
   "pygments_lexer": "ipython3",
   "version": "3.7.3"
  }
 },
 "nbformat": 4,
 "nbformat_minor": 2
}
