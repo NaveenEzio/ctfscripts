{
 "cells": [
  {
   "cell_type": "code",
   "execution_count": 1,
   "metadata": {},
   "outputs": [
    {
     "name": "stdout",
     "output_type": "stream",
     "text": [
      "103\n",
      "185\n",
      "124\n",
      "137\n",
      "125\n",
      "16\n",
      "181\n",
      "100\n",
      "20\n",
      "220\n",
      "169\n",
      "241\n",
      "46\n"
     ]
    }
   ],
   "source": [
    "e=[ 0x67, 0xB9, 0x7C, 0x89, 0x7D, 0x10, 0xB5, 0x64, 0x14, 0xDC, \n",
    "  0xA9, 0xF1, 0x2E]\n",
    "\n",
    "\n",
    "for i in e:\n",
    "    print(i)"
   ]
  },
  {
   "cell_type": "code",
   "execution_count": null,
   "metadata": {},
   "outputs": [],
   "source": []
  }
 ],
 "metadata": {
  "kernelspec": {
   "display_name": "Python 3",
   "language": "python",
   "name": "python3"
  },
  "language_info": {
   "codemirror_mode": {
    "name": "ipython",
    "version": 3
   },
   "file_extension": ".py",
   "mimetype": "text/x-python",
   "name": "python",
   "nbconvert_exporter": "python",
   "pygments_lexer": "ipython3",
   "version": "3.7.3"
  }
 },
 "nbformat": 4,
 "nbformat_minor": 2
}
